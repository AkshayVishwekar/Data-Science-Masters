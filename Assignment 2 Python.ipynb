{
 "cells": [
  {
   "cell_type": "markdown",
   "id": "b80681e1-fb01-4826-b5d9-cc16b99c184c",
   "metadata": {},
   "source": [
    "#Assignment 2"
   ]
  },
  {
   "cell_type": "markdown",
   "id": "6f08b469-5501-4d53-932d-f5108b0673b8",
   "metadata": {},
   "source": [
    "##1. write a program to accept percentage from the user and display the grade according to the following criteria:"
   ]
  },
  {
   "cell_type": "code",
   "execution_count": 41,
   "id": "edc7db5d-dd92-477c-b4c8-8dffea8de806",
   "metadata": {},
   "outputs": [
    {
     "name": "stdin",
     "output_type": "stream",
     "text": [
      "enter the marks:  95\n"
     ]
    },
    {
     "name": "stdout",
     "output_type": "stream",
     "text": [
      "Grade A\n"
     ]
    }
   ],
   "source": [
    "Marks=int(input(\"enter the marks: \"))\n",
    "if Marks>90:\n",
    "    print(\"Grade A\")\n",
    "elif Marks>80 and Marks<=90:\n",
    "        print(\"Grade B\")\n",
    "elif Marks>=60 and Marks<=80:\n",
    "            print(\"Grade C\")\n",
    "elif Marks<60:\n",
    "                print(\"Grade D\")"
   ]
  },
  {
   "cell_type": "markdown",
   "id": "48647e7e-bacc-4f1d-8acc-8edcd17800ab",
   "metadata": {},
   "source": [
    "##2. Write a program to accept the cost price of a bike and display the road tax to be paid according to the following criteria:"
   ]
  },
  {
   "cell_type": "code",
   "execution_count": 38,
   "id": "8ab7a79a-1388-4455-a42b-29d60ab8ea97",
   "metadata": {},
   "outputs": [
    {
     "name": "stdin",
     "output_type": "stream",
     "text": [
      "enter the price of the bike:  75000\n"
     ]
    },
    {
     "name": "stdout",
     "output_type": "stream",
     "text": [
      "Tax to be paid 7500.0\n"
     ]
    }
   ],
   "source": [
    "Price=int(input(\"enter the price of the bike: \"))\n",
    "if Price>100000:\n",
    "    Tax=Price*15/100\n",
    "elif Price>50000 and Price<=100000:\n",
    "    Tax=Price*10/100\n",
    "elif Price<=50000:\n",
    "    Tax=Price*5/100\n",
    "print(\"Tax to be paid\", Tax)"
   ]
  },
  {
   "cell_type": "markdown",
   "id": "9eaa47e8-882a-4bc9-a7fc-3aedab1af9eb",
   "metadata": {},
   "source": [
    "##3. Accept any city from the user and display monuments of that city:"
   ]
  },
  {
   "cell_type": "code",
   "execution_count": 9,
   "id": "d6a7fa82-e8df-4b26-8c48-697bb2dfa17b",
   "metadata": {},
   "outputs": [
    {
     "name": "stdin",
     "output_type": "stream",
     "text": [
      "enter the city name Delhi\n"
     ]
    },
    {
     "name": "stdout",
     "output_type": "stream",
     "text": [
      "Monument is : Red Fort\n"
     ]
    }
   ],
   "source": [
    "city=input(\"enter the city name\")\n",
    "if city==\"Delhi\":\n",
    "    print(\"Monument is : Red Fort\")\n",
    "elif city==\"Agra\":\n",
    "    print(\"Monument is : Taj Mahal\")\n",
    "elif city==\"Jaipur\":\n",
    "    print(\"Monument is : Jal Mahal\")\n",
    "else :\n",
    "    print(\"No famous monument\")"
   ]
  },
  {
   "cell_type": "markdown",
   "id": "eb89f695-7aca-4cab-804e-948f308dcfbf",
   "metadata": {},
   "source": [
    "##4. Check how many times a number can be devided by 3 before it is less than or equal to 10."
   ]
  },
  {
   "cell_type": "code",
   "execution_count": 10,
   "id": "1340ff42-0960-4cad-a3b9-ae01c2b6ce26",
   "metadata": {},
   "outputs": [
    {
     "name": "stdout",
     "output_type": "stream",
     "text": [
      "total iteration required 11\n",
      "total iteration required 12\n",
      "total iteration required 13\n"
     ]
    }
   ],
   "source": [
    "count=10\n",
    "number=180\n",
    "while number > 10:\n",
    "    number=number/3\n",
    "    count=count+1\n",
    "    print('total iteration required', count)"
   ]
  },
  {
   "cell_type": "markdown",
   "id": "73580bd1-a9ea-4674-a66e-75ae4c24c60b",
   "metadata": {},
   "source": [
    "##5. Why and when to use while loop in python with a detailed description with example."
   ]
  },
  {
   "cell_type": "markdown",
   "id": "805164a4-bb07-4dc3-aa63-d3c47a9344e3",
   "metadata": {},
   "source": [
    "Ans : While is used to execute a block of statements repeatedly until a given condition is satisfied."
   ]
  },
  {
   "cell_type": "markdown",
   "id": "7147e481-eb72-40c5-b78b-0f1ec51613cb",
   "metadata": {},
   "source": [
    "Example :"
   ]
  },
  {
   "cell_type": "code",
   "execution_count": 13,
   "id": "baf7ba16-bd53-4fc5-922f-f1237de6390a",
   "metadata": {},
   "outputs": [
    {
     "name": "stdout",
     "output_type": "stream",
     "text": [
      "25\n",
      "30\n",
      "35\n",
      "40\n",
      "45\n",
      "50\n",
      "55\n",
      "60\n",
      "Its time for retirement\n"
     ]
    }
   ],
   "source": [
    "joining_age=25\n",
    "while joining_age<=60:\n",
    "    print(joining_age)\n",
    "    joining_age=joining_age+5\n",
    "    \n",
    "else:\n",
    "    print(\"Its time for retirement\")"
   ]
  },
  {
   "cell_type": "markdown",
   "id": "cf126062-2300-4d05-8149-ab3b76ba92aa",
   "metadata": {},
   "source": [
    "##6. Use nested while loop to print 3 different pattern."
   ]
  },
  {
   "cell_type": "code",
   "execution_count": 15,
   "id": "4f7754bd-1391-4a1e-8044-7859fd71656c",
   "metadata": {},
   "outputs": [
    {
     "name": "stdout",
     "output_type": "stream",
     "text": [
      "*\n",
      "**\n",
      "***\n",
      "****\n",
      "*****\n",
      "******\n",
      "*******\n",
      "********\n",
      "*********\n",
      "**********\n",
      "***********\n"
     ]
    }
   ],
   "source": [
    "n=11\n",
    "\n",
    "for i in range(0,n):\n",
    "    for j in range(0,i+1):\n",
    "        print(\"*\",end=\"\")\n",
    "    print(\"\\r\")"
   ]
  },
  {
   "cell_type": "code",
   "execution_count": null,
   "id": "8771134b-abac-4f70-b3ce-2d985f46285e",
   "metadata": {},
   "outputs": [],
   "source": [
    "##7. Reverse a while loop to display numbers from 10 to 1."
   ]
  },
  {
   "cell_type": "code",
   "execution_count": null,
   "id": "df532d1c-b39a-4fcc-afb8-ae453b1b486d",
   "metadata": {},
   "outputs": [],
   "source": [
    "i=10\n",
    "while i>=0:\n",
    "    print(i, end=' ')\n",
    "    i=i-1"
   ]
  },
  {
   "cell_type": "code",
   "execution_count": null,
   "id": "7923605e-9089-47a5-94d8-5e00b247e23b",
   "metadata": {},
   "outputs": [],
   "source": [
    "i = 10\n",
    "else i >= 0:\n",
    "    print(i, end=' ')\n",
    "    i = i - 1"
   ]
  },
  {
   "cell_type": "code",
   "execution_count": null,
   "id": "b9050d95-c624-47dc-8958-e4e5642fd070",
   "metadata": {},
   "outputs": [],
   "source": []
  },
  {
   "cell_type": "code",
   "execution_count": null,
   "id": "7fc4afc5-6fae-41e4-8878-c13cc67708fd",
   "metadata": {},
   "outputs": [],
   "source": []
  },
  {
   "cell_type": "code",
   "execution_count": null,
   "id": "f6b2def7-9eca-49a0-91f2-b9c60e9719e2",
   "metadata": {},
   "outputs": [],
   "source": []
  },
  {
   "cell_type": "code",
   "execution_count": null,
   "id": "a5a9abdd-8b0c-4ad9-bf42-fb5a00365319",
   "metadata": {},
   "outputs": [],
   "source": []
  },
  {
   "cell_type": "code",
   "execution_count": null,
   "id": "cbe9dcb3-31c5-4f9c-8f3d-8583dec6bce4",
   "metadata": {},
   "outputs": [],
   "source": []
  },
  {
   "cell_type": "code",
   "execution_count": null,
   "id": "3e0b6bae-73d1-402e-aff4-c96be59d1ee4",
   "metadata": {},
   "outputs": [],
   "source": []
  }
 ],
 "metadata": {
  "kernelspec": {
   "display_name": "Python 3 (ipykernel)",
   "language": "python",
   "name": "python3"
  },
  "language_info": {
   "codemirror_mode": {
    "name": "ipython",
    "version": 3
   },
   "file_extension": ".py",
   "mimetype": "text/x-python",
   "name": "python",
   "nbconvert_exporter": "python",
   "pygments_lexer": "ipython3",
   "version": "3.10.8"
  }
 },
 "nbformat": 4,
 "nbformat_minor": 5
}
