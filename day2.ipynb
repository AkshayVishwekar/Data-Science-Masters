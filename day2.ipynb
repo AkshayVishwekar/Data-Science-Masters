{
 "cells": [
  {
   "cell_type": "code",
   "execution_count": 1,
   "id": "907deac5-e2c7-4b77-8c00-2e8cda68bb49",
   "metadata": {},
   "outputs": [
    {
     "name": "stdout",
     "output_type": "stream",
     "text": [
      "you are eligible to vote\n"
     ]
    }
   ],
   "source": [
    "##If Statements\n",
    "\n",
    "age=27\n",
    "if age>=18:\n",
    "    print(\"you are eligible to vote\")"
   ]
  },
  {
   "cell_type": "code",
   "execution_count": 5,
   "id": "d850b3f8-a3f4-4fa5-8cf9-df8f2882167c",
   "metadata": {},
   "outputs": [],
   "source": [
    "age=27\n",
    "if age<18:\n",
    "    print(\"you are not eligible to vote\")"
   ]
  },
  {
   "cell_type": "code",
   "execution_count": 6,
   "id": "c6ab92cc-27d0-4ede-a6eb-8f4eec976b79",
   "metadata": {},
   "outputs": [
    {
     "name": "stdin",
     "output_type": "stream",
     "text": [
      " Akshay Vishwekar\n"
     ]
    },
    {
     "data": {
      "text/plain": [
       "'Akshay Vishwekar'"
      ]
     },
     "execution_count": 6,
     "metadata": {},
     "output_type": "execute_result"
    }
   ],
   "source": [
    "input()"
   ]
  },
  {
   "cell_type": "code",
   "execution_count": 7,
   "id": "e7ee1481-b1be-4ee2-88b1-a6a034197bcb",
   "metadata": {},
   "outputs": [],
   "source": [
    "##task\n",
    "##Take a input of age\n",
    "##Check whether age >=18 and age<=45\n",
    "##Display a massge "
   ]
  },
  {
   "cell_type": "code",
   "execution_count": 13,
   "id": "e0e76518-be4d-4bf1-b0d5-1285ea6f6287",
   "metadata": {},
   "outputs": [
    {
     "name": "stdin",
     "output_type": "stream",
     "text": [
      "Enter the age 22\n"
     ]
    },
    {
     "name": "stdout",
     "output_type": "stream",
     "text": [
      "you are young blood\n"
     ]
    }
   ],
   "source": [
    "age=int(input(\"Enter the age\"))\n",
    "if age >=18 and age<=45:\n",
    "    print(\"you are young blood\")"
   ]
  },
  {
   "cell_type": "code",
   "execution_count": 8,
   "id": "a46a6e13-a727-486e-9ec6-98890a264ed5",
   "metadata": {},
   "outputs": [
    {
     "data": {
      "text/plain": [
       "True"
      ]
     },
     "execution_count": 8,
     "metadata": {},
     "output_type": "execute_result"
    }
   ],
   "source": [
    "22>=18"
   ]
  },
  {
   "cell_type": "code",
   "execution_count": 14,
   "id": "0882c253-9f83-43e7-b57c-752b657a471c",
   "metadata": {},
   "outputs": [
    {
     "name": "stdin",
     "output_type": "stream",
     "text": [
      "Enter the age 55\n"
     ]
    }
   ],
   "source": [
    "age=int(input(\"Enter the age\"))\n",
    "if age >=18 and age<=45:\n",
    "    print(\"you are young blood\")"
   ]
  },
  {
   "cell_type": "code",
   "execution_count": 17,
   "id": "7bf86675-e4f9-44b0-828a-41dd40e16091",
   "metadata": {},
   "outputs": [
    {
     "name": "stdin",
     "output_type": "stream",
     "text": [
      "Enter the age 55\n"
     ]
    },
    {
     "name": "stdout",
     "output_type": "stream",
     "text": [
      "Thank you we will do it\n"
     ]
    }
   ],
   "source": [
    "##IF else statements\n",
    "age=int(input(\"Enter the age\"))\n",
    "if age >=18 and age<=45:\n",
    "    print(\"you are young blood\")\n",
    "else:\n",
    "        print(\"Thank you we will do it\")"
   ]
  },
  {
   "cell_type": "code",
   "execution_count": 22,
   "id": "a858e026-047a-40a5-a47d-08070646ab93",
   "metadata": {},
   "outputs": [],
   "source": [
    "account=100"
   ]
  },
  {
   "cell_type": "code",
   "execution_count": 23,
   "id": "3f3ed551-9d3a-47c9-aad2-e9f6adea5172",
   "metadata": {},
   "outputs": [
    {
     "data": {
      "text/plain": [
       "100"
      ]
     },
     "execution_count": 23,
     "metadata": {},
     "output_type": "execute_result"
    }
   ],
   "source": [
    "account"
   ]
  },
  {
   "cell_type": "code",
   "execution_count": 26,
   "id": "f0875059-0b9c-4f4b-a4a3-aaeeb5029f03",
   "metadata": {},
   "outputs": [
    {
     "ename": "IndentationError",
     "evalue": "expected an indented block after 'else' statement on line 4 (3692572234.py, line 5)",
     "output_type": "error",
     "traceback": [
      "\u001b[0;36m  Cell \u001b[0;32mIn[26], line 5\u001b[0;36m\u001b[0m\n\u001b[0;31m    if money <1000:\u001b[0m\n\u001b[0m    ^\u001b[0m\n\u001b[0;31mIndentationError\u001b[0m\u001b[0;31m:\u001b[0m expected an indented block after 'else' statement on line 4\n"
     ]
    }
   ],
   "source": [
    "money=int(input(\"enter the money\"))\n",
    "if money >1000:\n",
    "    print(\"you get 20% off\")\n",
    "else:\n",
    "if money <1000:\n",
    "    print(\"you get 30% off\")"
   ]
  },
  {
   "cell_type": "code",
   "execution_count": 28,
   "id": "db59c267-d091-4600-a4d4-9b3270c461f7",
   "metadata": {},
   "outputs": [
    {
     "name": "stdin",
     "output_type": "stream",
     "text": [
      "enter the price 5000\n"
     ]
    },
    {
     "name": "stdout",
     "output_type": "stream",
     "text": [
      "the price of the product is 4000.0\n"
     ]
    }
   ],
   "source": [
    "product_price=int(input(\"enter the price\"))\n",
    "if product_price>1000:\n",
    "    print(\"the price of the product is {}\".format(product_price*0.8))\n",
    "else:\n",
    "    print(\"the price of the product is {}\".format(product_price*0.7))"
   ]
  },
  {
   "cell_type": "code",
   "execution_count": 27,
   "id": "99d0f8fe-0118-441c-abc3-aebf10de52cc",
   "metadata": {},
   "outputs": [
    {
     "data": {
      "text/plain": [
       "80"
      ]
     },
     "execution_count": 27,
     "metadata": {},
     "output_type": "execute_result"
    }
   ],
   "source": [
    "100-20"
   ]
  },
  {
   "cell_type": "code",
   "execution_count": 30,
   "id": "dc9ce751-3e17-4c4e-9ed3-ad4917f7343f",
   "metadata": {},
   "outputs": [
    {
     "name": "stdin",
     "output_type": "stream",
     "text": [
      "enter the price 1100\n"
     ]
    },
    {
     "name": "stdout",
     "output_type": "stream",
     "text": [
      "the price of the product is 880.0\n"
     ]
    }
   ],
   "source": [
    "product_price=int(input(\"enter the price\"))\n",
    "if product_price>3000:\n",
    "    print(f\"the price of the product is {product_price*0.8}\")\n",
    "else:\n",
    "    print(\"the price of the product is {}\".format(product_price*0.7))"
   ]
  },
  {
   "cell_type": "code",
   "execution_count": null,
   "id": "2983657b-9223-452e-9d4c-f903e939e248",
   "metadata": {},
   "outputs": [],
   "source": [
    "product_price=int(input(\"enter the price\"))\n",
    "if product_price>3000:\n",
    "    print(f\"the price of the product is {product_price*0.8}\")\n",
    "elif    \n",
    "else:\n",
    "    print(\"the price of the product is {}\".format(product_price*0.7))"
   ]
  },
  {
   "cell_type": "code",
   "execution_count": null,
   "id": "3ee8bb54-65de-4b95-b9fa-bef51131a482",
   "metadata": {},
   "outputs": [],
   "source": []
  },
  {
   "cell_type": "code",
   "execution_count": null,
   "id": "bb08c055-fedb-472b-ace0-997585dac684",
   "metadata": {},
   "outputs": [],
   "source": []
  },
  {
   "cell_type": "code",
   "execution_count": null,
   "id": "478da499-d57a-42b6-ac7a-a64b0aa16e22",
   "metadata": {},
   "outputs": [],
   "source": []
  },
  {
   "cell_type": "code",
   "execution_count": null,
   "id": "c73d9fc1-4b3c-45bf-8d81-1d90971b1d2f",
   "metadata": {},
   "outputs": [],
   "source": []
  },
  {
   "cell_type": "code",
   "execution_count": null,
   "id": "76c4cbd8-de04-4113-b59a-54d48a10ad89",
   "metadata": {},
   "outputs": [],
   "source": []
  },
  {
   "cell_type": "code",
   "execution_count": null,
   "id": "49495b1f-cf20-4851-9c57-9ce313ee7a1c",
   "metadata": {},
   "outputs": [],
   "source": []
  },
  {
   "cell_type": "code",
   "execution_count": null,
   "id": "b5f9b37a-a586-470e-9677-af393de81854",
   "metadata": {},
   "outputs": [],
   "source": []
  },
  {
   "cell_type": "code",
   "execution_count": null,
   "id": "4a91267b-1ab2-48e4-848e-aed6f1089cc0",
   "metadata": {},
   "outputs": [],
   "source": []
  },
  {
   "cell_type": "code",
   "execution_count": null,
   "id": "7fe0cdb0-0bee-4b77-87f8-370c2f448b84",
   "metadata": {},
   "outputs": [],
   "source": []
  },
  {
   "cell_type": "code",
   "execution_count": null,
   "id": "9e8c9a10-cfc8-4787-b38f-51fe33a66f8a",
   "metadata": {},
   "outputs": [],
   "source": []
  },
  {
   "cell_type": "code",
   "execution_count": null,
   "id": "3ebe858e-1eeb-4e98-9dbb-f8a9e3be2ab5",
   "metadata": {},
   "outputs": [],
   "source": []
  },
  {
   "cell_type": "code",
   "execution_count": null,
   "id": "a4fc6119-61f6-4686-9619-82b3ace659b7",
   "metadata": {},
   "outputs": [],
   "source": []
  },
  {
   "cell_type": "code",
   "execution_count": null,
   "id": "4ceb9e86-b291-4050-bc06-c6925aca2be8",
   "metadata": {},
   "outputs": [],
   "source": []
  },
  {
   "cell_type": "code",
   "execution_count": null,
   "id": "bbdfe010-83c8-4930-937c-df7535f00eec",
   "metadata": {},
   "outputs": [],
   "source": []
  },
  {
   "cell_type": "code",
   "execution_count": null,
   "id": "d26882df-bd0e-45c1-83fb-2e031368c7cb",
   "metadata": {},
   "outputs": [],
   "source": []
  },
  {
   "cell_type": "code",
   "execution_count": null,
   "id": "43a39ab1-5163-4f17-bdeb-3fa77323493b",
   "metadata": {},
   "outputs": [],
   "source": []
  }
 ],
 "metadata": {
  "kernelspec": {
   "display_name": "Python 3 (ipykernel)",
   "language": "python",
   "name": "python3"
  },
  "language_info": {
   "codemirror_mode": {
    "name": "ipython",
    "version": 3
   },
   "file_extension": ".py",
   "mimetype": "text/x-python",
   "name": "python",
   "nbconvert_exporter": "python",
   "pygments_lexer": "ipython3",
   "version": "3.10.8"
  }
 },
 "nbformat": 4,
 "nbformat_minor": 5
}
