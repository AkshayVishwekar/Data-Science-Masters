{
 "cells": [
  {
   "cell_type": "code",
   "execution_count": 15,
   "id": "e9b0da4d-ddf8-4432-a3e7-fc47f1f33fdb",
   "metadata": {},
   "outputs": [],
   "source": [
    "a=10"
   ]
  },
  {
   "cell_type": "raw",
   "id": "dc039cd2-3983-4934-9e0a-fe3ffdcd3835",
   "metadata": {},
   "source": [
    "a"
   ]
  },
  {
   "cell_type": "code",
   "execution_count": 19,
   "id": "b8ce45e8-9082-4279-99c2-e76df61b3b08",
   "metadata": {},
   "outputs": [
    {
     "data": {
      "text/plain": [
       "20"
      ]
     },
     "execution_count": 19,
     "metadata": {},
     "output_type": "execute_result"
    }
   ],
   "source": [
    "##this is a function\n",
    "a=20\n",
    "a"
   ]
  },
  {
   "cell_type": "markdown",
   "id": "1b8e66e9-cabb-4ad5-a8f9-ebce54ae5cd4",
   "metadata": {},
   "source": [
    "########Hello"
   ]
  },
  {
   "cell_type": "raw",
   "id": "c449427b-15ac-4a56-a4a0-f8ac6dce86f0",
   "metadata": {},
   "source": [
    "a"
   ]
  },
  {
   "cell_type": "markdown",
   "id": "53ac307e-0203-4d05-9831-5a04a1e96702",
   "metadata": {},
   "source": [
    "###Numbers"
   ]
  },
  {
   "cell_type": "code",
   "execution_count": 23,
   "id": "bfcbee6e-b814-4fa9-aae2-9cc8032d3db7",
   "metadata": {},
   "outputs": [
    {
     "name": "stdout",
     "output_type": "stream",
     "text": [
      "4\n"
     ]
    }
   ],
   "source": [
    "print(1+3)"
   ]
  },
  {
   "cell_type": "code",
   "execution_count": 27,
   "id": "8db4a1da-cb94-4d70-9fff-2bf72f6ed378",
   "metadata": {},
   "outputs": [
    {
     "name": "stdout",
     "output_type": "stream",
     "text": [
      "hello world my name is \n",
      " akshay vishwekar from pauni\n"
     ]
    }
   ],
   "source": [
    "print(\"hello world my name is \\n akshay vishwekar from pauni\")"
   ]
  },
  {
   "cell_type": "markdown",
   "id": "9bca66c6-b6a7-497b-a70f-dc9cb21d2492",
   "metadata": {},
   "source": [
    "Vaiable Assignment"
   ]
  },
  {
   "cell_type": "code",
   "execution_count": 41,
   "id": "76898c41-853e-4c7b-907c-5503820ffec8",
   "metadata": {},
   "outputs": [],
   "source": [
    "Name=\"Akshay\"\n",
    "LastName=\"Vishwekar\""
   ]
  },
  {
   "cell_type": "code",
   "execution_count": 33,
   "id": "9f541db9-b6cb-4d98-a006-4b46839819fb",
   "metadata": {},
   "outputs": [
    {
     "data": {
      "text/plain": [
       "'Akshay'"
      ]
     },
     "execution_count": 33,
     "metadata": {},
     "output_type": "execute_result"
    }
   ],
   "source": [
    "Name"
   ]
  },
  {
   "cell_type": "code",
   "execution_count": 35,
   "id": "6df7cbb1-ec5d-414d-b80d-6915d0aae537",
   "metadata": {},
   "outputs": [
    {
     "data": {
      "text/plain": [
       "'Vishwekar'"
      ]
     },
     "execution_count": 35,
     "metadata": {},
     "output_type": "execute_result"
    }
   ],
   "source": [
    "LastName"
   ]
  },
  {
   "cell_type": "code",
   "execution_count": 36,
   "id": "4ce18761-11b3-4108-8be3-4bb08525292f",
   "metadata": {},
   "outputs": [],
   "source": [
    "number=22"
   ]
  },
  {
   "cell_type": "code",
   "execution_count": 38,
   "id": "8e702637-daba-4db4-b0e5-2932a61b12b7",
   "metadata": {},
   "outputs": [
    {
     "name": "stdout",
     "output_type": "stream",
     "text": [
      "22\n"
     ]
    }
   ],
   "source": [
    "print(number)"
   ]
  },
  {
   "cell_type": "code",
   "execution_count": 39,
   "id": "6242ddf8-1ebd-4109-a35c-03ee2c1f4c46",
   "metadata": {},
   "outputs": [
    {
     "data": {
      "text/plain": [
       "str"
      ]
     },
     "execution_count": 39,
     "metadata": {},
     "output_type": "execute_result"
    }
   ],
   "source": [
    "type(\"\")"
   ]
  },
  {
   "cell_type": "code",
   "execution_count": 42,
   "id": "509df599-9348-4f8c-8874-6c6a667aba30",
   "metadata": {},
   "outputs": [],
   "source": [
    "decimal_num=2.5"
   ]
  },
  {
   "cell_type": "code",
   "execution_count": 43,
   "id": "d7f2f83e-62d7-4663-8acf-56f769c166b3",
   "metadata": {},
   "outputs": [
    {
     "data": {
      "text/plain": [
       "2.5"
      ]
     },
     "execution_count": 43,
     "metadata": {},
     "output_type": "execute_result"
    }
   ],
   "source": [
    "decimal_num"
   ]
  },
  {
   "cell_type": "code",
   "execution_count": 44,
   "id": "963394bd-5b18-4a57-86a6-b63e063ab214",
   "metadata": {},
   "outputs": [
    {
     "data": {
      "text/plain": [
       "float"
      ]
     },
     "execution_count": 44,
     "metadata": {},
     "output_type": "execute_result"
    }
   ],
   "source": [
    "type(decimal_num)"
   ]
  },
  {
   "cell_type": "code",
   "execution_count": 45,
   "id": "45dbb600-afa1-4870-a7ff-9b5b911bfad3",
   "metadata": {},
   "outputs": [],
   "source": [
    "##dont start the variable name with numbers."
   ]
  },
  {
   "cell_type": "code",
   "execution_count": 47,
   "id": "ec46971c-7f37-49ff-b03d-6a9d6246a511",
   "metadata": {},
   "outputs": [
    {
     "name": "stdout",
     "output_type": "stream",
     "text": [
      "ascent\n",
      "Ascent\n"
     ]
    }
   ],
   "source": [
    "##Variables are case sensitive\n",
    "company=\"ascent\"\n",
    "Company=\"Ascent\"\n",
    "print(company)\n",
    "print(Company)"
   ]
  },
  {
   "cell_type": "code",
   "execution_count": null,
   "id": "8e166262-1a09-477b-8ceb-f4e4c6310d00",
   "metadata": {},
   "outputs": [],
   "source": [
    "##Reserved Keywords\n",
    "\n",
    "int, float, len,complex,bool,str,return,yield"
   ]
  },
  {
   "cell_type": "code",
   "execution_count": 49,
   "id": "7fa35440-c973-4158-89dd-79caad8cc312",
   "metadata": {},
   "outputs": [
    {
     "data": {
      "text/plain": [
       "True"
      ]
     },
     "execution_count": 49,
     "metadata": {},
     "output_type": "execute_result"
    }
   ],
   "source": [
    "##Boolina\n",
    "True"
   ]
  },
  {
   "cell_type": "code",
   "execution_count": 51,
   "id": "af049d7a-17d0-4b10-ab75-36fa78502507",
   "metadata": {},
   "outputs": [
    {
     "data": {
      "text/plain": [
       "False"
      ]
     },
     "execution_count": 51,
     "metadata": {},
     "output_type": "execute_result"
    }
   ],
   "source": [
    "False"
   ]
  },
  {
   "cell_type": "code",
   "execution_count": 52,
   "id": "41ed3611-0d72-49eb-b317-7079e4696959",
   "metadata": {},
   "outputs": [
    {
     "data": {
      "text/plain": [
       "True"
      ]
     },
     "execution_count": 52,
     "metadata": {},
     "output_type": "execute_result"
    }
   ],
   "source": [
    "True or False"
   ]
  },
  {
   "cell_type": "code",
   "execution_count": 58,
   "id": "b09c8e96-315e-4312-9ffe-1b572d42163e",
   "metadata": {},
   "outputs": [
    {
     "data": {
      "text/plain": [
       "bool"
      ]
     },
     "execution_count": 58,
     "metadata": {},
     "output_type": "execute_result"
    }
   ],
   "source": [
    "type(not False)"
   ]
  },
  {
   "cell_type": "code",
   "execution_count": 59,
   "id": "2e3b97ef-5edc-4614-955e-4a77fa6c53f0",
   "metadata": {},
   "outputs": [
    {
     "data": {
      "text/plain": [
       "True"
      ]
     },
     "execution_count": 59,
     "metadata": {},
     "output_type": "execute_result"
    }
   ],
   "source": [
    "bool(1)"
   ]
  },
  {
   "cell_type": "markdown",
   "id": "390b4821-511f-4a1c-bbdd-f9cfb594d292",
   "metadata": {},
   "source": [
    "###Dynamic Typing"
   ]
  },
  {
   "cell_type": "code",
   "execution_count": 61,
   "id": "98863452-b17a-422e-aa49-e6185059d639",
   "metadata": {},
   "outputs": [],
   "source": [
    "a=12"
   ]
  },
  {
   "cell_type": "code",
   "execution_count": 63,
   "id": "fde2fa85-7be2-41aa-ac07-9ebbf6d98d02",
   "metadata": {},
   "outputs": [
    {
     "name": "stdout",
     "output_type": "stream",
     "text": [
      "12\n"
     ]
    }
   ],
   "source": [
    "print(a)"
   ]
  },
  {
   "cell_type": "code",
   "execution_count": 64,
   "id": "9a368509-981c-4517-87b1-cade5269f0c7",
   "metadata": {},
   "outputs": [],
   "source": [
    "## concatenation between different types"
   ]
  },
  {
   "cell_type": "code",
   "execution_count": 65,
   "id": "5ea1aedd-8051-4959-87ca-52cef1cb4479",
   "metadata": {},
   "outputs": [
    {
     "data": {
      "text/plain": [
       "'11'"
      ]
     },
     "execution_count": 65,
     "metadata": {},
     "output_type": "execute_result"
    }
   ],
   "source": [
    "\"1\"+\"1\""
   ]
  },
  {
   "cell_type": "code",
   "execution_count": 67,
   "id": "0ac75d51-fe33-4e44-9148-fbd456f126d4",
   "metadata": {},
   "outputs": [
    {
     "data": {
      "text/plain": [
       "2"
      ]
     },
     "execution_count": 67,
     "metadata": {},
     "output_type": "execute_result"
    }
   ],
   "source": [
    "int(\"1\")+int(\"1\")"
   ]
  },
  {
   "cell_type": "code",
   "execution_count": 3,
   "id": "1cee0aea-653a-41e8-a258-6606a0af7e6a",
   "metadata": {},
   "outputs": [],
   "source": [
    "Name=\"Akshay\""
   ]
  },
  {
   "cell_type": "code",
   "execution_count": 5,
   "id": "c1877627-6037-4610-8009-40af0dbccef3",
   "metadata": {},
   "outputs": [
    {
     "data": {
      "text/plain": [
       "'Akshay'"
      ]
     },
     "execution_count": 5,
     "metadata": {},
     "output_type": "execute_result"
    }
   ],
   "source": [
    "Name"
   ]
  },
  {
   "cell_type": "code",
   "execution_count": 6,
   "id": "2ef1d30a-844c-44fe-aeb7-2dd4fc00e317",
   "metadata": {},
   "outputs": [],
   "source": [
    "a=10"
   ]
  },
  {
   "cell_type": "code",
   "execution_count": 8,
   "id": "bd24f02b-1756-4da0-b232-0e7800b77550",
   "metadata": {},
   "outputs": [
    {
     "ename": "SyntaxError",
     "evalue": "invalid syntax (62411553.py, line 1)",
     "output_type": "error",
     "traceback": [
      "\u001b[0;36m  Cell \u001b[0;32mIn[8], line 1\u001b[0;36m\u001b[0m\n\u001b[0;31m    a=\u001b[0m\n\u001b[0m      ^\u001b[0m\n\u001b[0;31mSyntaxError\u001b[0m\u001b[0;31m:\u001b[0m invalid syntax\n"
     ]
    }
   ],
   "source": [
    "a="
   ]
  },
  {
   "cell_type": "code",
   "execution_count": 11,
   "id": "a23e122d-2482-4877-b7af-86739f91c7ab",
   "metadata": {},
   "outputs": [],
   "source": [
    "a=10"
   ]
  },
  {
   "cell_type": "code",
   "execution_count": 12,
   "id": "137d5f99-0f53-40bf-8f3e-eb91b8872d48",
   "metadata": {},
   "outputs": [
    {
     "data": {
      "text/plain": [
       "10"
      ]
     },
     "execution_count": 12,
     "metadata": {},
     "output_type": "execute_result"
    }
   ],
   "source": [
    "10"
   ]
  },
  {
   "cell_type": "code",
   "execution_count": 13,
   "id": "3f7ced30-288d-46b8-8082-2bea559650a5",
   "metadata": {},
   "outputs": [
    {
     "data": {
      "text/plain": [
       "10"
      ]
     },
     "execution_count": 13,
     "metadata": {},
     "output_type": "execute_result"
    }
   ],
   "source": [
    "a"
   ]
  },
  {
   "cell_type": "code",
   "execution_count": 15,
   "id": "7ccf70a6-7fd0-41d9-a663-9d9b7ef2e159",
   "metadata": {},
   "outputs": [
    {
     "data": {
      "text/plain": [
       "123"
      ]
     },
     "execution_count": 15,
     "metadata": {},
     "output_type": "execute_result"
    }
   ],
   "source": [
    "int(123)"
   ]
  },
  {
   "cell_type": "code",
   "execution_count": null,
   "id": "d0126dec-7187-4872-9646-c8a62a590912",
   "metadata": {},
   "outputs": [],
   "source": []
  },
  {
   "cell_type": "code",
   "execution_count": null,
   "id": "d77deea1-6fcd-42ba-ab0f-76fce0e15cf1",
   "metadata": {},
   "outputs": [],
   "source": []
  },
  {
   "cell_type": "code",
   "execution_count": null,
   "id": "961a2d59-c888-4a45-96c5-d83ad869ddb3",
   "metadata": {},
   "outputs": [],
   "source": []
  },
  {
   "cell_type": "code",
   "execution_count": null,
   "id": "3568258a-9156-45dc-8653-3dacf41e73c9",
   "metadata": {},
   "outputs": [],
   "source": []
  },
  {
   "cell_type": "code",
   "execution_count": null,
   "id": "4a9f7e93-800a-441e-a059-1460d678e5e4",
   "metadata": {},
   "outputs": [],
   "source": []
  },
  {
   "cell_type": "code",
   "execution_count": null,
   "id": "02cd5106-647b-4485-b6aa-091baf7cb533",
   "metadata": {},
   "outputs": [],
   "source": []
  }
 ],
 "metadata": {
  "kernelspec": {
   "display_name": "Python 3 (ipykernel)",
   "language": "python",
   "name": "python3"
  },
  "language_info": {
   "codemirror_mode": {
    "name": "ipython",
    "version": 3
   },
   "file_extension": ".py",
   "mimetype": "text/x-python",
   "name": "python",
   "nbconvert_exporter": "python",
   "pygments_lexer": "ipython3",
   "version": "3.10.8"
  }
 },
 "nbformat": 4,
 "nbformat_minor": 5
}
